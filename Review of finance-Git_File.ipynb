{
 "cells": [
  {
   "cell_type": "code",
   "execution_count": 1,
   "metadata": {},
   "outputs": [],
   "source": [
    "\n",
    "#Importing libraries\n",
    "import requests\n",
    "import os\n",
    "import json\n",
    "from selenium import webdriver\n",
    "import pandas as pd\n",
    "from bs4 import BeautifulSoup  \n",
    "import time\n",
    "import requests\n",
    "from time import sleep\n",
    "from selenium import webdriver\n",
    "from selenium.webdriver.common.by import By\n",
    "from selenium.webdriver.support.ui import WebDriverWait\n",
    "from selenium.webdriver.support import expected_conditions as EC\n",
    "from selenium.webdriver.common.action_chains import ActionChains\n",
    "from selenium.webdriver.common.keys import Keys\n",
    "import traceback\n",
    "from webdriver_manager.chrome import ChromeDriverManager  \n"
   ]
  },
  {
   "cell_type": "markdown",
   "metadata": {},
   "source": [
    "## Initializing a chrome instance"
   ]
  },
  {
   "cell_type": "code",
   "execution_count": 18,
   "metadata": {},
   "outputs": [],
   "source": [
    "options = webdriver.ChromeOptions() \n"
   ]
  },
  {
   "cell_type": "code",
   "execution_count": 19,
   "metadata": {},
   "outputs": [],
   "source": [
    "options.add_argument(\"start-maximized\")\n",
    "options.add_experimental_option(\"excludeSwitches\", [\"enable-automation\"])\n",
    "options.add_experimental_option('useAutomationExtension', False)"
   ]
  },
  {
   "cell_type": "code",
   "execution_count": 20,
   "metadata": {},
   "outputs": [],
   "source": [
    "driver = webdriver.Chrome(options=options, executable_path=r\"C:/selenium/chromedriver.exe\")\n"
   ]
  },
  {
   "cell_type": "markdown",
   "metadata": {},
   "source": [
    "## Creating issue links "
   ]
  },
  {
   "cell_type": "code",
   "execution_count": 42,
   "metadata": {},
   "outputs": [],
   "source": [
    "issues=[]"
   ]
  },
  {
   "cell_type": "code",
   "execution_count": 43,
   "metadata": {},
   "outputs": [],
   "source": [
    "for i in range(1,25):\n",
    "    a='https://academic.oup.com/rof/issue/'+str(i)+'/'\n",
    "    for j in range(1,7):\n",
    "        b=a+str(j)\n",
    "        issues.append(b)"
   ]
  },
  {
   "cell_type": "markdown",
   "metadata": {},
   "source": [
    "## Setting up the home window"
   ]
  },
  {
   "cell_type": "code",
   "execution_count": 45,
   "metadata": {},
   "outputs": [],
   "source": [
    "window0=driver.window_handles[0]"
   ]
  },
  {
   "cell_type": "code",
   "execution_count": 46,
   "metadata": {},
   "outputs": [],
   "source": [
    "driver.switch_to.window(window0)"
   ]
  },
  {
   "cell_type": "markdown",
   "metadata": {},
   "source": [
    "## Creating an empty list to store the data"
   ]
  },
  {
   "cell_type": "code",
   "execution_count": 37,
   "metadata": {},
   "outputs": [],
   "source": [
    "rf=[]"
   ]
  },
  {
   "cell_type": "code",
   "execution_count": null,
   "metadata": {},
   "outputs": [],
   "source": [
    "for i in issues:\n",
    "    try:\n",
    "        driver.get(i)\n",
    "        sleep(5)\n",
    "        articles = WebDriverWait(driver, 30).until(EC.visibility_of_all_elements_located((By.CSS_SELECTOR, '.customLink.item-title a')))\n",
    "        for article in articles:                                                                    \n",
    "            \n",
    "            try:  \n",
    "                ActionChains(driver).key_down(Keys.CONTROL).click(article).key_up(Keys.CONTROL).perform()\n",
    "                WebDriverWait(driver, 10).until(EC.number_of_windows_to_be(2))\n",
    "                window1 = driver.window_handles[1]\n",
    "                driver.switch_to.window(window1)\n",
    "                sleep(8)\n",
    "                rof={}\n",
    "                try:\n",
    "                    rof['title']=driver.find_element_by_xpath('//*[@id=\"ContentColumn\"]/div[2]/div[1]/div/div/h1').text\n",
    "                except:\n",
    "                    print(\"title not found\")\n",
    "                try:\n",
    "                    rof['authors']=driver.find_element_by_xpath('//*[@id=\"ContentColumn\"]/div[2]/div[1]/div/div/div[1]/div').text\n",
    "                except:\n",
    "                    print(\"authors not found\")\n",
    "                try:\n",
    "                    rof['article_details']=driver.find_element_by_xpath('//*[@id=\"ContentColumn\"]/div[2]/div[1]/div/div/div[2]/div[1]/div').text\n",
    "                except:\n",
    "                    print(\"article details not found\")\n",
    "                try:\n",
    "                    rof['published_time']=driver.find_element_by_xpath('//*[@id=\"ContentColumn\"]/div[2]/div[1]/div/div/div[2]/div[2]/div/div[2]').text\n",
    "                except:\n",
    "                    print(\"publsihed_time not found\")\n",
    "                try:\n",
    "                    rof['abstract']=driver.find_element_by_xpath('//*[@id=\"ContentTab\"]/div[1]/div/div/section').text\n",
    "                except:\n",
    "                    print(\"abstract not  found\")\n",
    "                try:\n",
    "                    rof['jel_classification']=driver.find_element_by_xpath('//*[@id=\"ContentTab\"]/div[1]/div/div/div[1]/div[1]/div').text\n",
    "                except:\n",
    "                    print(\"jel not found\")\n",
    "                try:\n",
    "                    rof['associate_editor']=driver.find_element_by_xpath('//*[@id=\"ContentTab\"]/div[1]/div/div/div[1]/div[3]/div/div/span').text\n",
    "                except:\n",
    "                    print(\"editor nit found\")\n",
    "                try:\n",
    "                    rof['body']=driver.find_element_by_xpath('//*[@id=\"ContentTab\"]/div[1]/div/div').text\n",
    "                except:\n",
    "                    print(\"body missing\")\n",
    "                rf.append(rof)\n",
    "                driver.close()\n",
    "                driver.switch_to.window(window0)\n",
    "            except:\n",
    "                print(\"couldnt get the article\")\n",
    "    except:\n",
    "            print(\"issue not found\")"
   ]
  },
  {
   "cell_type": "markdown",
   "metadata": {},
   "source": [
    "## Storing the data in a dataframe"
   ]
  },
  {
   "cell_type": "code",
   "execution_count": 49,
   "metadata": {},
   "outputs": [],
   "source": [
    "data=pd.DataFrame(rf)"
   ]
  },
  {
   "cell_type": "markdown",
   "metadata": {},
   "source": [
    "## Feature engineering to extract more variables "
   ]
  },
  {
   "cell_type": "code",
   "execution_count": 51,
   "metadata": {},
   "outputs": [],
   "source": [
    "info1=data['body'].str.split('References\\n',expand=True)"
   ]
  },
  {
   "cell_type": "code",
   "execution_count": 53,
   "metadata": {},
   "outputs": [],
   "source": [
    "data['body']=info1[0]"
   ]
  },
  {
   "cell_type": "code",
   "execution_count": 54,
   "metadata": {},
   "outputs": [],
   "source": [
    "data['references']=info1[1]"
   ]
  },
  {
   "cell_type": "code",
   "execution_count": 55,
   "metadata": {},
   "outputs": [
    {
     "data": {
      "text/html": [
       "<div>\n",
       "<style scoped>\n",
       "    .dataframe tbody tr th:only-of-type {\n",
       "        vertical-align: middle;\n",
       "    }\n",
       "\n",
       "    .dataframe tbody tr th {\n",
       "        vertical-align: top;\n",
       "    }\n",
       "\n",
       "    .dataframe thead th {\n",
       "        text-align: right;\n",
       "    }\n",
       "</style>\n",
       "<table border=\"1\" class=\"dataframe\">\n",
       "  <thead>\n",
       "    <tr style=\"text-align: right;\">\n",
       "      <th></th>\n",
       "      <th>title</th>\n",
       "      <th>authors</th>\n",
       "      <th>article_details</th>\n",
       "      <th>published_time</th>\n",
       "      <th>abstract</th>\n",
       "      <th>jel_classification</th>\n",
       "      <th>body</th>\n",
       "      <th>references</th>\n",
       "    </tr>\n",
       "  </thead>\n",
       "  <tbody>\n",
       "    <tr>\n",
       "      <td>0</td>\n",
       "      <td>Agency Conflicts and Risk Management*</td>\n",
       "      <td>Erwan Morellec,\\nClifford W. Smith, Jr.\\nAutho...</td>\n",
       "      <td>Review of Finance, Volume 11, Issue 1, 2007, P...</td>\n",
       "      <td>01 January 2007</td>\n",
       "      <td>This paper analyzes the relation between agenc...</td>\n",
       "      <td>JEL G13 - Contingent Pricing; Futures Pricing ...</td>\n",
       "      <td>Abstract\\nThis paper analyzes the relation bet...</td>\n",
       "      <td>Alderson M.,  Betker B.. Liquidation costs and...</td>\n",
       "    </tr>\n",
       "    <tr>\n",
       "      <td>1</td>\n",
       "      <td>On the Evolution of Investment Strategies and ...</td>\n",
       "      <td>Terje Lensberg,\\nKlaus Reiner Schenk-Hoppé\\nAu...</td>\n",
       "      <td>Review of Finance, Volume 11, Issue 1, 2007, P...</td>\n",
       "      <td>01 January 2007</td>\n",
       "      <td>This paper complements theoretical studies on ...</td>\n",
       "      <td>JEL C63 - Computational Techniques; Simulation...</td>\n",
       "      <td>Abstract\\nThis paper complements theoretical s...</td>\n",
       "      <td>Algoet P. H.,  Cover T. M.. Asymptotic optimal...</td>\n",
       "    </tr>\n",
       "    <tr>\n",
       "      <td>2</td>\n",
       "      <td>Should smart investors buy funds with high pas...</td>\n",
       "      <td>Frederic Palomino,\\nHarald Uhlig\\nAuthor Notes</td>\n",
       "      <td>Review of Finance, Volume 11, Issue 1, 2007, P...</td>\n",
       "      <td>01 January 2007</td>\n",
       "      <td>We fully characterize the equilibria in a gme ...</td>\n",
       "      <td>JEL G11 - Portfolio Choice; Investment Decisio...</td>\n",
       "      <td>Abstract\\nWe fully characterize the equilibria...</td>\n",
       "      <td>Berk J.,  Green R.. Mutual fund flows and perf...</td>\n",
       "    </tr>\n",
       "    <tr>\n",
       "      <td>3</td>\n",
       "      <td>Stochastic Dominance Bounds on American Option...</td>\n",
       "      <td>George M. Constantinides,\\nStylianos Perrakis\\...</td>\n",
       "      <td>Review of Finance, Volume 11, Issue 1, 2007, P...</td>\n",
       "      <td>31 January 2007</td>\n",
       "      <td>We derive equilibrium restrictions on the rang...</td>\n",
       "      <td>JEL G13 - Contingent Pricing; Futures Pricing</td>\n",
       "      <td>Abstract\\nWe derive equilibrium restrictions o...</td>\n",
       "      <td>Amin K. I.. Jump diffusion option valuation in...</td>\n",
       "    </tr>\n",
       "    <tr>\n",
       "      <td>4</td>\n",
       "      <td>Market Responses to Buy Recommendations Issued...</td>\n",
       "      <td>Alexander G. Kerl,\\nAndreas Walter\\nAuthor Notes</td>\n",
       "      <td>Review of Finance, Volume 11, Issue 1, 2007, P...</td>\n",
       "      <td>31 January 2007</td>\n",
       "      <td>This paper analyzes explicit buy recommendatio...</td>\n",
       "      <td>JEL G11 - Portfolio Choice; Investment Decisio...</td>\n",
       "      <td>Abstract\\nThis paper analyzes explicit buy rec...</td>\n",
       "      <td>Admati A. R.,  Pfleiderer P.. Direct and indir...</td>\n",
       "    </tr>\n",
       "    <tr>\n",
       "      <td>...</td>\n",
       "      <td>...</td>\n",
       "      <td>...</td>\n",
       "      <td>...</td>\n",
       "      <td>...</td>\n",
       "      <td>...</td>\n",
       "      <td>...</td>\n",
       "      <td>...</td>\n",
       "      <td>...</td>\n",
       "    </tr>\n",
       "    <tr>\n",
       "      <td>603</td>\n",
       "      <td>Internal Capital Markets in Times of Crisis: T...</td>\n",
       "      <td>Raffaele Santioni,\\nFabio Schiantarelli,\\nPhil...</td>\n",
       "      <td>Review of Finance, Volume 24, Issue 4, July 20...</td>\n",
       "      <td>12 September 2019</td>\n",
       "      <td>Firms affiliated with business groups survive ...</td>\n",
       "      <td>JEL G30 - General G32 - Financing Policy; Fina...</td>\n",
       "      <td>Abstract\\nFirms affiliated with business group...</td>\n",
       "      <td>Accornero M., Alessandri P., Carpinelli L., So...</td>\n",
       "    </tr>\n",
       "    <tr>\n",
       "      <td>604</td>\n",
       "      <td>Margin Trading and Comovement During Crises*</td>\n",
       "      <td>Bige Kahraman,\\nHeather Tookes\\nAuthor Notes</td>\n",
       "      <td>Review of Finance, Volume 24, Issue 4, July 20...</td>\n",
       "      <td>27 September 2019</td>\n",
       "      <td>We exploit threshold rules governing margin tr...</td>\n",
       "      <td>JEL G01 - Financial Crises G14 - Information a...</td>\n",
       "      <td>Abstract\\nWe exploit threshold rules governing...</td>\n",
       "      <td>Anton M., Polk C. (2014): Connected stocks, Jo...</td>\n",
       "    </tr>\n",
       "    <tr>\n",
       "      <td>605</td>\n",
       "      <td>How Do Internal Capital Markets Work? Evidence...</td>\n",
       "      <td>David Buchuk,\\nBorja Larrain,\\nMounu Prem,\\nFr...</td>\n",
       "      <td>Review of Finance, Volume 24, Issue 4, July 20...</td>\n",
       "      <td>18 October 2019</td>\n",
       "      <td>We study the inner workings of internal capita...</td>\n",
       "      <td>JEL G32 - Financing Policy; Financial Risk and...</td>\n",
       "      <td>Abstract\\nWe study the inner workings of inter...</td>\n",
       "      <td>Abadie A., Diamond A., Hainmueller J. (2010): ...</td>\n",
       "    </tr>\n",
       "    <tr>\n",
       "      <td>606</td>\n",
       "      <td>Do Corporate Governance Ratings Change Investo...</td>\n",
       "      <td>Paul M Guest,\\nMarco Nerino\\nAuthor Notes</td>\n",
       "      <td>Review of Finance, Volume 24, Issue 4, July 20...</td>\n",
       "      <td>09 October 2019</td>\n",
       "      <td>This paper examines empirically the announceme...</td>\n",
       "      <td>JEL G14 - Information and Market Efficiency; E...</td>\n",
       "      <td>Abstract\\nThis paper examines empirically the ...</td>\n",
       "      <td>Alexander C., Chen M., Seppi D., Spatt C. (201...</td>\n",
       "    </tr>\n",
       "    <tr>\n",
       "      <td>607</td>\n",
       "      <td>Reaching for Yield in the ABS Market: Evidence...</td>\n",
       "      <td>Matthias Efing\\nAuthor Notes</td>\n",
       "      <td>Review of Finance, Volume 24, Issue 4, July 20...</td>\n",
       "      <td>22 August 2019</td>\n",
       "      <td>If regulation fails to differentiate between p...</td>\n",
       "      <td>JEL G01 - Financial Crises G21 - Banks; Deposi...</td>\n",
       "      <td>Abstract\\nIf regulation fails to differentiate...</td>\n",
       "      <td>Acharya V. V., Richardson M. (2009): Causes of...</td>\n",
       "    </tr>\n",
       "  </tbody>\n",
       "</table>\n",
       "<p>608 rows × 8 columns</p>\n",
       "</div>"
      ],
      "text/plain": [
       "                                                 title  \\\n",
       "0                Agency Conflicts and Risk Management*   \n",
       "1    On the Evolution of Investment Strategies and ...   \n",
       "2    Should smart investors buy funds with high pas...   \n",
       "3    Stochastic Dominance Bounds on American Option...   \n",
       "4    Market Responses to Buy Recommendations Issued...   \n",
       "..                                                 ...   \n",
       "603  Internal Capital Markets in Times of Crisis: T...   \n",
       "604       Margin Trading and Comovement During Crises*   \n",
       "605  How Do Internal Capital Markets Work? Evidence...   \n",
       "606  Do Corporate Governance Ratings Change Investo...   \n",
       "607  Reaching for Yield in the ABS Market: Evidence...   \n",
       "\n",
       "                                               authors  \\\n",
       "0    Erwan Morellec,\\nClifford W. Smith, Jr.\\nAutho...   \n",
       "1    Terje Lensberg,\\nKlaus Reiner Schenk-Hoppé\\nAu...   \n",
       "2       Frederic Palomino,\\nHarald Uhlig\\nAuthor Notes   \n",
       "3    George M. Constantinides,\\nStylianos Perrakis\\...   \n",
       "4     Alexander G. Kerl,\\nAndreas Walter\\nAuthor Notes   \n",
       "..                                                 ...   \n",
       "603  Raffaele Santioni,\\nFabio Schiantarelli,\\nPhil...   \n",
       "604       Bige Kahraman,\\nHeather Tookes\\nAuthor Notes   \n",
       "605  David Buchuk,\\nBorja Larrain,\\nMounu Prem,\\nFr...   \n",
       "606          Paul M Guest,\\nMarco Nerino\\nAuthor Notes   \n",
       "607                       Matthias Efing\\nAuthor Notes   \n",
       "\n",
       "                                       article_details     published_time  \\\n",
       "0    Review of Finance, Volume 11, Issue 1, 2007, P...    01 January 2007   \n",
       "1    Review of Finance, Volume 11, Issue 1, 2007, P...    01 January 2007   \n",
       "2    Review of Finance, Volume 11, Issue 1, 2007, P...    01 January 2007   \n",
       "3    Review of Finance, Volume 11, Issue 1, 2007, P...    31 January 2007   \n",
       "4    Review of Finance, Volume 11, Issue 1, 2007, P...    31 January 2007   \n",
       "..                                                 ...                ...   \n",
       "603  Review of Finance, Volume 24, Issue 4, July 20...  12 September 2019   \n",
       "604  Review of Finance, Volume 24, Issue 4, July 20...  27 September 2019   \n",
       "605  Review of Finance, Volume 24, Issue 4, July 20...    18 October 2019   \n",
       "606  Review of Finance, Volume 24, Issue 4, July 20...    09 October 2019   \n",
       "607  Review of Finance, Volume 24, Issue 4, July 20...     22 August 2019   \n",
       "\n",
       "                                              abstract  \\\n",
       "0    This paper analyzes the relation between agenc...   \n",
       "1    This paper complements theoretical studies on ...   \n",
       "2    We fully characterize the equilibria in a gme ...   \n",
       "3    We derive equilibrium restrictions on the rang...   \n",
       "4    This paper analyzes explicit buy recommendatio...   \n",
       "..                                                 ...   \n",
       "603  Firms affiliated with business groups survive ...   \n",
       "604  We exploit threshold rules governing margin tr...   \n",
       "605  We study the inner workings of internal capita...   \n",
       "606  This paper examines empirically the announceme...   \n",
       "607  If regulation fails to differentiate between p...   \n",
       "\n",
       "                                    jel_classification  \\\n",
       "0    JEL G13 - Contingent Pricing; Futures Pricing ...   \n",
       "1    JEL C63 - Computational Techniques; Simulation...   \n",
       "2    JEL G11 - Portfolio Choice; Investment Decisio...   \n",
       "3        JEL G13 - Contingent Pricing; Futures Pricing   \n",
       "4    JEL G11 - Portfolio Choice; Investment Decisio...   \n",
       "..                                                 ...   \n",
       "603  JEL G30 - General G32 - Financing Policy; Fina...   \n",
       "604  JEL G01 - Financial Crises G14 - Information a...   \n",
       "605  JEL G32 - Financing Policy; Financial Risk and...   \n",
       "606  JEL G14 - Information and Market Efficiency; E...   \n",
       "607  JEL G01 - Financial Crises G21 - Banks; Deposi...   \n",
       "\n",
       "                                                  body  \\\n",
       "0    Abstract\\nThis paper analyzes the relation bet...   \n",
       "1    Abstract\\nThis paper complements theoretical s...   \n",
       "2    Abstract\\nWe fully characterize the equilibria...   \n",
       "3    Abstract\\nWe derive equilibrium restrictions o...   \n",
       "4    Abstract\\nThis paper analyzes explicit buy rec...   \n",
       "..                                                 ...   \n",
       "603  Abstract\\nFirms affiliated with business group...   \n",
       "604  Abstract\\nWe exploit threshold rules governing...   \n",
       "605  Abstract\\nWe study the inner workings of inter...   \n",
       "606  Abstract\\nThis paper examines empirically the ...   \n",
       "607  Abstract\\nIf regulation fails to differentiate...   \n",
       "\n",
       "                                            references  \n",
       "0    Alderson M.,  Betker B.. Liquidation costs and...  \n",
       "1    Algoet P. H.,  Cover T. M.. Asymptotic optimal...  \n",
       "2    Berk J.,  Green R.. Mutual fund flows and perf...  \n",
       "3    Amin K. I.. Jump diffusion option valuation in...  \n",
       "4    Admati A. R.,  Pfleiderer P.. Direct and indir...  \n",
       "..                                                 ...  \n",
       "603  Accornero M., Alessandri P., Carpinelli L., So...  \n",
       "604  Anton M., Polk C. (2014): Connected stocks, Jo...  \n",
       "605  Abadie A., Diamond A., Hainmueller J. (2010): ...  \n",
       "606  Alexander C., Chen M., Seppi D., Spatt C. (201...  \n",
       "607  Acharya V. V., Richardson M. (2009): Causes of...  \n",
       "\n",
       "[608 rows x 8 columns]"
      ]
     },
     "execution_count": 55,
     "metadata": {},
     "output_type": "execute_result"
    }
   ],
   "source": [
    "data"
   ]
  },
  {
   "cell_type": "markdown",
   "metadata": {},
   "source": [
    "## Saving the data into a csv"
   ]
  },
  {
   "cell_type": "code",
   "execution_count": 56,
   "metadata": {},
   "outputs": [],
   "source": [
    "data.to_csv(\"rof.csv\")"
   ]
  },
  {
   "cell_type": "code",
   "execution_count": null,
   "metadata": {},
   "outputs": [],
   "source": []
  }
 ],
 "metadata": {
  "kernelspec": {
   "display_name": "Python 3",
   "language": "python",
   "name": "python3"
  },
  "language_info": {
   "codemirror_mode": {
    "name": "ipython",
    "version": 3
   },
   "file_extension": ".py",
   "mimetype": "text/x-python",
   "name": "python",
   "nbconvert_exporter": "python",
   "pygments_lexer": "ipython3",
   "version": "3.7.4"
  }
 },
 "nbformat": 4,
 "nbformat_minor": 2
}
